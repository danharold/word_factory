{
 "cells": [
  {
   "cell_type": "code",
   "execution_count": 1,
   "metadata": {},
   "outputs": [],
   "source": [
    "import numpy as np\n",
    "import matplotlib.pyplot as plt\n",
    "import random"
   ]
  },
  {
   "cell_type": "code",
   "execution_count": 2,
   "metadata": {},
   "outputs": [
    {
     "name": "stdout",
     "output_type": "stream",
     "text": [
      "{'a': 71, 'b': 17, 'c': 23, 'd': 25, 'e': 104, 'f': 17, 'g': 24, 'h': 17, 'i': 69, 'j': 2, 'k': 10, 'l': 46, 'm': 19, 'n': 56, 'o': 55, 'p': 27, 'q': 1, 'r': 63, 's': 66, 't': 53, 'u': 29, 'v': 9, 'w': 7, 'x': 5, 'y': 15, 'z': 2}\n"
     ]
    }
   ],
   "source": [
    "# get words and compute occurences of each letter\n",
    "\n",
    "words = open('words_updated.csv').read().split(',')\n",
    "alphabet = 'abcdefghijklmnopqrstuvwxyz'\n",
    "alphabetOccurences = {char : 0 for char in alphabet}\n",
    "\n",
    "for word in words:\n",
    "    for char in word:\n",
    "        alphabetOccurences[char] += 1\n",
    "\n",
    "print(alphabetOccurences)"
   ]
  },
  {
   "cell_type": "code",
   "execution_count": 3,
   "metadata": {},
   "outputs": [
    {
     "data": {
      "text/plain": [
       "Text(0, 0.5, 'Frequency')"
      ]
     },
     "execution_count": 3,
     "metadata": {},
     "output_type": "execute_result"
    },
    {
     "data": {
      "image/png": "[encoded data removed]",
      "text/plain": [
       "<Figure size 640x480 with 1 Axes>"
      ]
     },
     "metadata": {},
     "output_type": "display_data"
    }
   ],
   "source": [
    "# plot occurences\n",
    "\n",
    "plt.bar(list(alphabet), alphabetOccurences.values())\n",
    "plt.ylabel(\"Frequency\")"
   ]
  },
  {
   "cell_type": "code",
   "execution_count": 4,
   "metadata": {},
   "outputs": [],
   "source": [
    "# get the distribution for each letter\n",
    "alphabet_distributions = []\n",
    "\n",
    "for char in alphabet:\n",
    "    arr = [0 for i in range(8)]\n",
    "    for word in words:\n",
    "        count = word.count(char)\n",
    "        arr[count] += 1\n",
    "    alphabet_distributions.append(arr)"
   ]
  },
  {
   "cell_type": "code",
   "execution_count": 5,
   "metadata": {},
   "outputs": [
    {
     "data": {
      "text/plain": [
       "array([0.52884615, 0.28846154, 0.15384615, 0.02884615, 0.        ,\n",
       "       0.        , 0.        , 0.        ])"
      ]
     },
     "execution_count": 5,
     "metadata": {},
     "output_type": "execute_result"
    }
   ],
   "source": [
    "# get probabilities for each letter\n",
    "alphabet_probabilities = np.array(alphabet_distributions)/len(words)\n",
    "alphabet_probabilities[0]"
   ]
  },
  {
   "cell_type": "code",
   "execution_count": 6,
   "metadata": {},
   "outputs": [],
   "source": [
    "# simulation functions\n",
    "\n",
    "# simulate 1 day\n",
    "def simulate_scenario(stock):\n",
    "    # get random word to be ordered\n",
    "    scenario = 0\n",
    "    word_ordered = words[random.randint(0, len(words) - 1)]\n",
    "\n",
    "    # get letters from stock\n",
    "    letters_obtained = []\n",
    "    letters_needed = list(word_ordered)\n",
    "    for letter in letters_needed:\n",
    "        if(stock[letter] > 0):\n",
    "            letters_obtained.append(letter)\n",
    "            stock[letter] -= 1\n",
    "    \n",
    "    # check whether we can complete the word or not\n",
    "    word_delivered = False\n",
    "    if(len(letters_needed) == len(letters_obtained)):\n",
    "        # we have enough letters to complete the word\n",
    "        scenario = 1\n",
    "    elif(len(letters_needed) == len(letters_obtained) + 1):\n",
    "        # we are one letter short to complete the word, express ship\n",
    "        scenario = 2\n",
    "    else:\n",
    "        scenario = 3\n",
    "\n",
    "    # restock letters if we sold the word\n",
    "    for letter in letters_obtained:\n",
    "        stock[letter] += 1\n",
    "\n",
    "    return scenario\n",
    "\n",
    "# simulate multiple days and output probabilities\n",
    "def simulate_scenarios(stock, iterations=10000):\n",
    "    result = []\n",
    "    test_stock = {char: 2 for char in alphabet}\n",
    "\n",
    "    for i in range(iterations):\n",
    "        result.append(simulate_scenario(stock))\n",
    "\n",
    "    sc1_simulated = result.count(1)/iterations\n",
    "    sc2_simulated = result.count(2)/iterations\n",
    "    sc3_simulated = result.count(3)/iterations\n",
    "\n",
    "    print(\"P(scenario 1): \", sc1_simulated)\n",
    "    print(\"P(scenario 2): \", sc2_simulated)\n",
    "    print(\"P(scenario 3): \", sc3_simulated)\n",
    "\n",
    "    return result\n",
    "\n",
    "# simulate the first week w times, and output averaged profit,\n",
    "# including upfront costs\n",
    "def simulate_profit(stock, weeks=1):\n",
    "    profits = []\n",
    "    for w in range(weeks):\n",
    "        scenarios = []\n",
    "        for i in range(5):\n",
    "            scenarios.append(simulate_scenario(stock))\n",
    "\n",
    "        profit = -1000*sum(stock.values())\n",
    "        for sc in scenarios:\n",
    "            if sc == 1:\n",
    "                profit += 12000\n",
    "            elif sc == 2:\n",
    "                profit += 10000\n",
    "            elif sc == 3:\n",
    "                profit -= 10000\n",
    "\n",
    "        profits.append(profit)\n",
    "\n",
    "    return sum(profits)/weeks\n"
   ]
  },
  {
   "cell_type": "code",
   "execution_count": 7,
   "metadata": {},
   "outputs": [],
   "source": [
    "# calculations using probability, functions\n",
    "\n",
    "# calculate the probability of scenario 1\n",
    "def calculate_sc1(stock):\n",
    "    result = 1\n",
    "    for i in range(26):\n",
    "        current_p = 0\n",
    "        for j in range(stock[i] + 1):\n",
    "            #print(i, j)\n",
    "            current_p += alphabet_probabilities[i][j]\n",
    "        result *= current_p\n",
    "    return result\n",
    "\n",
    "# calculate the probability of scenario 2\n",
    "def calculate_sc2(stock):\n",
    "    result = 0\n",
    "    for i in range(26):\n",
    "        current_p = alphabet_probabilities[i][stock[i]+1]\n",
    "        inner_p = 1\n",
    "        for j in range(26):\n",
    "            if (j != i):\n",
    "                inner_p *= 1 - alphabet_probabilities[j][stock[i]+1]\n",
    "        current_p *= inner_p\n",
    "        result += current_p\n",
    "    return result\n",
    "\n",
    "# calculate the probabilites for all 3 scenarios\n",
    "def calculate_scenarios(stock, logging=False):\n",
    "    s1 = calculate_sc1(stock)\n",
    "    s2 = calculate_sc2(stock)\n",
    "    s3 = 1 - s1 - s2\n",
    "\n",
    "    if(logging):\n",
    "        print(\"P(scenario 1): \", s1)\n",
    "        print(\"P(scenario 2): \", s2)\n",
    "        print(\"P(scenario 3): \", s3)\n",
    "\n",
    "    return (s1, s2, s3)\n",
    "\n",
    "# calculate the profit given a stock\n",
    "def calculate_profit(stock, logging=False):\n",
    "    p = calculate_scenarios(stock, logging)\n",
    "    return -1000*sum(stock) + 5*(12000*p[0] + 10000*p[1] - 10000*p[2])"
   ]
  },
  {
   "cell_type": "code",
   "execution_count": 8,
   "metadata": {},
   "outputs": [
    {
     "name": "stdout",
     "output_type": "stream",
     "text": [
      "P(scenario 1):  0.8963\n",
      "P(scenario 2):  0.1037\n",
      "P(scenario 3):  0.0\n"
     ]
    }
   ],
   "source": [
    "# test simulations\n",
    "\n",
    "x = {char: 2 for char in alphabet}\n",
    "xd = simulate_scenarios(x)"
   ]
  },
  {
   "cell_type": "code",
   "execution_count": 19,
   "metadata": {},
   "outputs": [
    {
     "name": "stdout",
     "output_type": "stream",
     "text": [
      "P(scenario 1):  0.2808006861011127\n",
      "P(scenario 2):  0.3876523723132751\n",
      "P(scenario 3):  0.33154694158561215\n"
     ]
    },
    {
     "data": {
      "text/plain": [
       "-6346.687297550088"
      ]
     },
     "execution_count": 19,
     "metadata": {},
     "output_type": "execute_result"
    }
   ],
   "source": [
    "# test calculations\n",
    "\n",
    "x = [1 for char in alphabet]\n",
    "#p_scenarios = calculate_scenarios(x)\n",
    "\n",
    "calculate_profit(x, True)"
   ]
  },
  {
   "cell_type": "code",
   "execution_count": 29,
   "metadata": {},
   "outputs": [],
   "source": [
    "# gradient ascent function\n",
    "\n",
    "def gradient_ascent(guess_stock, max_iterations=100):\n",
    "\n",
    "    # initialise guess\n",
    "    current_stock = guess_stock\n",
    "    current_profit = 0\n",
    "    iterations = 1\n",
    "\n",
    "    while(iterations<max_iterations):\n",
    "        print(\"i = \", iterations)\n",
    "        # track absolute differences in profit as we increase every\n",
    "        # letter in the stock up by 1, or down by 1\n",
    "        up = []\n",
    "        down = []\n",
    "        current_profit = calculate_profit(current_stock)\n",
    "\n",
    "        # up and down\n",
    "        test_stock = current_stock[:]\n",
    "        for i in range(26):\n",
    "            # up\n",
    "            test_stock = current_stock[:]\n",
    "            test_stock[i] = test_stock[i] + 1\n",
    "            test_profit = calculate_profit(test_stock)\n",
    "            up.append(test_profit - current_profit)\n",
    "\n",
    "            # down\n",
    "            test_stock = current_stock[:]\n",
    "            if(test_stock[i] >= 0):\n",
    "                test_stock[i] = test_stock[i] - 1\n",
    "                test_profit = calculate_profit(test_stock)\n",
    "                down.append(test_profit - current_profit)\n",
    "            else:\n",
    "                down.append(None)\n",
    "\n",
    "        # get indexes of the max value\n",
    "        up_max_idx = up.index(max(up))\n",
    "        down_max_idx = down.index(max(down))\n",
    "\n",
    "        print(\"Up dP maximum of \", max(up), \" at \", alphabet[up_max_idx], \" (\", up_max_idx, \")\")\n",
    "        print(\"Down dP maximum of \", max(down), \" at \", alphabet[down_max_idx], \" (\", down_max_idx, \")\")\n",
    "\n",
    "        # the index of the largest maximum value is permanently incremented\n",
    "        # for the next iteration\n",
    "        if(max(up) <= 0 and max(down) <= 0):\n",
    "            print(\"No positive difference found at iteration \", i)\n",
    "            print(\"Final stock: \", current_stock)\n",
    "            print(\"Final profit: \", current_profit)\n",
    "            return current_stock\n",
    "        elif (max(up) > max(down)):\n",
    "            # use up value\n",
    "            current_stock[up_max_idx] += 1\n",
    "        else:\n",
    "            # use down value\n",
    "            current_stock[down_max_idx] -= 1\n",
    "        \n",
    "        print(\"Current stock: \", current_stock)   \n",
    "\n",
    "        iterations += 1\n",
    "    \n",
    "    print(\"Iteration limit exceeded\")\n",
    "    print(\"Final stock: \", current_stock)\n",
    "    print(\"Final profit: \", current_profit)\n",
    "    return current_stock\n"
   ]
  },
  {
   "cell_type": "code",
   "execution_count": 30,
   "metadata": {},
   "outputs": [
    {
     "name": "stdout",
     "output_type": "stream",
     "text": [
      "i =  1\n",
      "Up dP maximum of  1898.1886894301279  at  l  ( 11 )\n",
      "Down dP maximum of  1000.0  at  b  ( 1 )\n",
      "Current stock:  [1, 5, 5, 0, 1, 0, 3, 0, 1, 0, 5, 1, 0, 1, 1, 0, 2, 0, 1, 0, 0, 0, 0, 0, 0, 0]\n",
      "i =  2\n",
      "Up dP maximum of  2329.183363017888  at  r  ( 17 )\n",
      "Down dP maximum of  1000.0  at  b  ( 1 )\n",
      "Current stock:  [1, 5, 5, 0, 1, 0, 3, 0, 1, 0, 5, 1, 0, 1, 1, 0, 2, 1, 1, 0, 0, 0, 0, 0, 0, 0]\n",
      "i =  3\n",
      "Up dP maximum of  3242.679921173338  at  t  ( 19 )\n",
      "Down dP maximum of  1000.0  at  b  ( 1 )\n",
      "Current stock:  [1, 5, 5, 0, 1, 0, 3, 0, 1, 0, 5, 1, 0, 1, 1, 0, 2, 1, 1, 1, 0, 0, 0, 0, 0, 0]\n",
      "i =  4\n",
      "Up dP maximum of  2031.9334017734218  at  u  ( 20 )\n",
      "Down dP maximum of  1000.0  at  b  ( 1 )\n",
      "Current stock:  [1, 5, 5, 0, 1, 0, 3, 0, 1, 0, 5, 1, 0, 1, 1, 0, 2, 1, 1, 1, 1, 0, 0, 0, 0, 0]\n",
      "i =  5\n",
      "Up dP maximum of  2359.0412970823672  at  p  ( 15 )\n",
      "Down dP maximum of  1000.0  at  b  ( 1 )\n",
      "Current stock:  [1, 5, 5, 0, 1, 0, 3, 0, 1, 0, 5, 1, 0, 1, 1, 1, 2, 1, 1, 1, 1, 0, 0, 0, 0, 0]\n",
      "i =  6\n",
      "Up dP maximum of  2651.3513595902987  at  d  ( 3 )\n",
      "Down dP maximum of  1000.0  at  b  ( 1 )\n",
      "Current stock:  [1, 5, 5, 1, 1, 0, 3, 0, 1, 0, 5, 1, 0, 1, 1, 1, 2, 1, 1, 1, 1, 0, 0, 0, 0, 0]\n",
      "i =  7\n",
      "Up dP maximum of  2211.9692958506566  at  m  ( 12 )\n",
      "Down dP maximum of  1000.0  at  b  ( 1 )\n",
      "Current stock:  [1, 5, 5, 1, 1, 0, 3, 0, 1, 0, 5, 1, 1, 1, 1, 1, 2, 1, 1, 1, 1, 0, 0, 0, 0, 0]\n",
      "i =  8\n",
      "Up dP maximum of  2310.5750181412513  at  h  ( 7 )\n",
      "Down dP maximum of  1000.0  at  b  ( 1 )\n",
      "Current stock:  [1, 5, 5, 1, 1, 0, 3, 1, 1, 0, 5, 1, 1, 1, 1, 1, 2, 1, 1, 1, 1, 0, 0, 0, 0, 0]\n",
      "i =  9\n",
      "Up dP maximum of  2475.820366549746  at  y  ( 24 )\n",
      "Down dP maximum of  1000.0  at  b  ( 1 )\n",
      "Current stock:  [1, 5, 5, 1, 1, 0, 3, 1, 1, 0, 5, 1, 1, 1, 1, 1, 2, 1, 1, 1, 1, 0, 0, 0, 1, 0]\n",
      "i =  10\n",
      "Up dP maximum of  2251.619681828339  at  f  ( 5 )\n",
      "Down dP maximum of  1000.0  at  b  ( 1 )\n",
      "Current stock:  [1, 5, 5, 1, 1, 1, 3, 1, 1, 0, 5, 1, 1, 1, 1, 1, 2, 1, 1, 1, 1, 0, 0, 0, 1, 0]\n",
      "i =  11\n",
      "Up dP maximum of  2268.485419261855  at  e  ( 4 )\n",
      "Down dP maximum of  1000.0  at  b  ( 1 )\n",
      "Current stock:  [1, 5, 5, 1, 2, 1, 3, 1, 1, 0, 5, 1, 1, 1, 1, 1, 2, 1, 1, 1, 1, 0, 0, 0, 1, 0]\n",
      "i =  12\n",
      "Up dP maximum of  2099.7946119678236  at  v  ( 21 )\n",
      "Down dP maximum of  1000.0  at  b  ( 1 )\n",
      "Current stock:  [1, 5, 5, 1, 2, 1, 3, 1, 1, 0, 5, 1, 1, 1, 1, 1, 2, 1, 1, 1, 1, 1, 0, 0, 1, 0]\n",
      "i =  13\n",
      "Up dP maximum of  2630.422351667534  at  a  ( 0 )\n",
      "Down dP maximum of  1000.0  at  b  ( 1 )\n",
      "Current stock:  [2, 5, 5, 1, 2, 1, 3, 1, 1, 0, 5, 1, 1, 1, 1, 1, 2, 1, 1, 1, 1, 1, 0, 0, 1, 0]\n",
      "i =  14\n",
      "Up dP maximum of  2074.110951977451  at  w  ( 22 )\n",
      "Down dP maximum of  1000.0  at  b  ( 1 )\n",
      "Current stock:  [2, 5, 5, 1, 2, 1, 3, 1, 1, 0, 5, 1, 1, 1, 1, 1, 2, 1, 1, 1, 1, 1, 1, 0, 1, 0]\n",
      "i =  15\n",
      "Up dP maximum of  1307.1282237755877  at  x  ( 23 )\n",
      "Down dP maximum of  1000.0  at  b  ( 1 )\n",
      "Current stock:  [2, 5, 5, 1, 2, 1, 3, 1, 1, 0, 5, 1, 1, 1, 1, 1, 2, 1, 1, 1, 1, 1, 1, 1, 1, 0]\n",
      "i =  16\n",
      "Up dP maximum of  1454.218344623765  at  o  ( 14 )\n",
      "Down dP maximum of  1000.0  at  b  ( 1 )\n",
      "Current stock:  [2, 5, 5, 1, 2, 1, 3, 1, 1, 0, 5, 1, 1, 1, 2, 1, 2, 1, 1, 1, 1, 1, 1, 1, 1, 0]\n",
      "i =  17\n",
      "Up dP maximum of  1459.8723565119544  at  i  ( 8 )\n",
      "Down dP maximum of  1000.0  at  b  ( 1 )\n",
      "Current stock:  [2, 5, 5, 1, 2, 1, 3, 1, 2, 0, 5, 1, 1, 1, 2, 1, 2, 1, 1, 1, 1, 1, 1, 1, 1, 0]\n",
      "i =  18\n",
      "Up dP maximum of  2197.436472272704  at  s  ( 18 )\n",
      "Down dP maximum of  1000.0  at  b  ( 1 )\n",
      "Current stock:  [2, 5, 5, 1, 2, 1, 3, 1, 2, 0, 5, 1, 1, 1, 2, 1, 2, 1, 2, 1, 1, 1, 1, 1, 1, 0]\n",
      "i =  19\n",
      "Up dP maximum of  1454.0560634708017  at  l  ( 11 )\n",
      "Down dP maximum of  1000.0  at  b  ( 1 )\n",
      "Current stock:  [2, 5, 5, 1, 2, 1, 3, 1, 2, 0, 5, 2, 1, 1, 2, 1, 2, 1, 2, 1, 1, 1, 1, 1, 1, 0]\n",
      "i =  20\n",
      "Up dP maximum of  1797.403412744563  at  n  ( 13 )\n",
      "Down dP maximum of  1000.0  at  b  ( 1 )\n",
      "Current stock:  [2, 5, 5, 1, 2, 1, 3, 1, 2, 0, 5, 2, 1, 2, 2, 1, 2, 1, 2, 1, 1, 1, 1, 1, 1, 0]\n",
      "i =  21\n",
      "Up dP maximum of  1685.6232247290973  at  f  ( 5 )\n",
      "Down dP maximum of  1000.0  at  b  ( 1 )\n",
      "Current stock:  [2, 5, 5, 1, 2, 2, 3, 1, 2, 0, 5, 2, 1, 2, 2, 1, 2, 1, 2, 1, 1, 1, 1, 1, 1, 0]\n",
      "i =  22\n",
      "Up dP maximum of  1844.6038366643988  at  r  ( 17 )\n",
      "Down dP maximum of  1000.0  at  b  ( 1 )\n",
      "Current stock:  [2, 5, 5, 1, 2, 2, 3, 1, 2, 0, 5, 2, 1, 2, 2, 1, 2, 2, 2, 1, 1, 1, 1, 1, 1, 0]\n",
      "i =  23\n",
      "Up dP maximum of  1975.9027568779347  at  t  ( 19 )\n",
      "Down dP maximum of  1000.0  at  b  ( 1 )\n",
      "Current stock:  [2, 5, 5, 1, 2, 2, 3, 1, 2, 0, 5, 2, 1, 2, 2, 1, 2, 2, 2, 2, 1, 1, 1, 1, 1, 0]\n",
      "i =  24\n",
      "Up dP maximum of  704.7011370087421  at  z  ( 25 )\n",
      "Down dP maximum of  1000.0  at  b  ( 1 )\n",
      "Current stock:  [2, 4, 5, 1, 2, 2, 3, 1, 2, 0, 5, 2, 1, 2, 2, 1, 2, 2, 2, 2, 1, 1, 1, 1, 1, 0]\n",
      "i =  25\n",
      "Up dP maximum of  704.7011370087421  at  z  ( 25 )\n",
      "Down dP maximum of  1000.0  at  b  ( 1 )\n",
      "Current stock:  [2, 3, 5, 1, 2, 2, 3, 1, 2, 0, 5, 2, 1, 2, 2, 1, 2, 2, 2, 2, 1, 1, 1, 1, 1, 0]\n",
      "i =  26\n",
      "Up dP maximum of  704.7011370087421  at  z  ( 25 )\n",
      "Down dP maximum of  1000.0  at  b  ( 1 )\n",
      "Current stock:  [2, 2, 5, 1, 2, 2, 3, 1, 2, 0, 5, 2, 1, 2, 2, 1, 2, 2, 2, 2, 1, 1, 1, 1, 1, 0]\n",
      "i =  27\n",
      "Up dP maximum of  704.7011370087421  at  z  ( 25 )\n",
      "Down dP maximum of  1000.0  at  c  ( 2 )\n",
      "Current stock:  [2, 2, 4, 1, 2, 2, 3, 1, 2, 0, 5, 2, 1, 2, 2, 1, 2, 2, 2, 2, 1, 1, 1, 1, 1, 0]\n",
      "i =  28\n",
      "Up dP maximum of  704.7011370087421  at  z  ( 25 )\n",
      "Down dP maximum of  1000.0  at  c  ( 2 )\n",
      "Current stock:  [2, 2, 3, 1, 2, 2, 3, 1, 2, 0, 5, 2, 1, 2, 2, 1, 2, 2, 2, 2, 1, 1, 1, 1, 1, 0]\n",
      "i =  29\n",
      "Up dP maximum of  704.7011370087421  at  z  ( 25 )\n",
      "Down dP maximum of  1000.0  at  c  ( 2 )\n",
      "Current stock:  [2, 2, 2, 1, 2, 2, 3, 1, 2, 0, 5, 2, 1, 2, 2, 1, 2, 2, 2, 2, 1, 1, 1, 1, 1, 0]\n",
      "i =  30\n",
      "Up dP maximum of  704.7011370087421  at  z  ( 25 )\n",
      "Down dP maximum of  1000.0  at  c  ( 2 )\n",
      "Current stock:  [2, 2, 1, 1, 2, 2, 3, 1, 2, 0, 5, 2, 1, 2, 2, 1, 2, 2, 2, 2, 1, 1, 1, 1, 1, 0]\n",
      "i =  31\n",
      "Up dP maximum of  704.7011370087421  at  z  ( 25 )\n",
      "Down dP maximum of  1000.0  at  g  ( 6 )\n",
      "Current stock:  [2, 2, 1, 1, 2, 2, 2, 1, 2, 0, 5, 2, 1, 2, 2, 1, 2, 2, 2, 2, 1, 1, 1, 1, 1, 0]\n",
      "i =  32\n",
      "Up dP maximum of  704.7011370087421  at  z  ( 25 )\n",
      "Down dP maximum of  1000.0  at  k  ( 10 )\n",
      "Current stock:  [2, 2, 1, 1, 2, 2, 2, 1, 2, 0, 4, 2, 1, 2, 2, 1, 2, 2, 2, 2, 1, 1, 1, 1, 1, 0]\n",
      "i =  33\n",
      "Up dP maximum of  704.7011370087421  at  z  ( 25 )\n",
      "Down dP maximum of  1000.0  at  k  ( 10 )\n",
      "Current stock:  [2, 2, 1, 1, 2, 2, 2, 1, 2, 0, 3, 2, 1, 2, 2, 1, 2, 2, 2, 2, 1, 1, 1, 1, 1, 0]\n",
      "i =  34\n",
      "Up dP maximum of  704.7011370087421  at  z  ( 25 )\n",
      "Down dP maximum of  1000.0  at  k  ( 10 )\n",
      "Current stock:  [2, 2, 1, 1, 2, 2, 2, 1, 2, 0, 2, 2, 1, 2, 2, 1, 2, 2, 2, 2, 1, 1, 1, 1, 1, 0]\n",
      "i =  35\n",
      "Up dP maximum of  704.7011370087421  at  z  ( 25 )\n",
      "Down dP maximum of  1000.0  at  k  ( 10 )\n",
      "Current stock:  [2, 2, 1, 1, 2, 2, 2, 1, 2, 0, 1, 2, 1, 2, 2, 1, 2, 2, 2, 2, 1, 1, 1, 1, 1, 0]\n",
      "i =  36\n",
      "Up dP maximum of  704.7011370087421  at  z  ( 25 )\n",
      "Down dP maximum of  1000.0  at  q  ( 16 )\n",
      "Current stock:  [2, 2, 1, 1, 2, 2, 2, 1, 2, 0, 1, 2, 1, 2, 2, 1, 1, 2, 2, 2, 1, 1, 1, 1, 1, 0]\n",
      "i =  37\n",
      "Up dP maximum of  704.7011370087421  at  z  ( 25 )\n",
      "Down dP maximum of  164.05195664578787  at  q  ( 16 )\n",
      "Current stock:  [2, 2, 1, 1, 2, 2, 2, 1, 2, 0, 1, 2, 1, 2, 2, 1, 1, 2, 2, 2, 1, 1, 1, 1, 1, 1]\n",
      "i =  38\n",
      "Up dP maximum of  688.4042907138064  at  u  ( 20 )\n",
      "Down dP maximum of  147.6380444504466  at  q  ( 16 )\n",
      "Current stock:  [2, 2, 1, 1, 2, 2, 2, 1, 2, 0, 1, 2, 1, 2, 2, 1, 1, 2, 2, 2, 2, 1, 1, 1, 1, 1]\n",
      "i =  39\n",
      "Up dP maximum of  766.7199396081705  at  p  ( 15 )\n",
      "Down dP maximum of  122.28586323783384  at  q  ( 16 )\n",
      "Current stock:  [2, 2, 1, 1, 2, 2, 2, 1, 2, 0, 1, 2, 1, 2, 2, 2, 1, 2, 2, 2, 2, 1, 1, 1, 1, 1]\n",
      "i =  40\n",
      "Up dP maximum of  219.50027049308846  at  m  ( 12 )\n",
      "Down dP maximum of  96.18064693971246  at  q  ( 16 )\n",
      "Current stock:  [2, 2, 1, 1, 2, 2, 2, 1, 2, 0, 1, 2, 2, 2, 2, 2, 1, 2, 2, 2, 2, 1, 1, 1, 1, 1]\n",
      "i =  41\n",
      "Up dP maximum of  -378.2527679333725  at  h  ( 7 )\n",
      "Down dP maximum of  78.43592475014157  at  q  ( 16 )\n",
      "Current stock:  [2, 2, 1, 1, 2, 2, 2, 1, 2, 0, 1, 2, 2, 2, 2, 2, 0, 2, 2, 2, 2, 1, 1, 1, 1, 1]\n",
      "i =  42\n",
      "Up dP maximum of  -78.43592475014157  at  q  ( 16 )\n",
      "Down dP maximum of  -201.75554830351757  at  b  ( 1 )\n",
      "No positive difference found at iteration  25\n",
      "Final stock:  [2, 2, 1, 1, 2, 2, 2, 1, 2, 0, 1, 2, 2, 2, 2, 2, 0, 2, 2, 2, 2, 1, 1, 1, 1, 1]\n",
      "Final profit:  16480.551350090238\n"
     ]
    }
   ],
   "source": [
    "# perform gradient ascent to find optima\n",
    "\n",
    "x = [1, 5, 5, 0, 1, 0, 3, 0, 1, 0, 5, 0, 0, 1, 1, 0, 2, 0, 1, 0, 0, 0, 0, 0, 0, 0]\n",
    "\n",
    "best = gradient_ascent(x)"
   ]
  },
  {
   "cell_type": "code",
   "execution_count": 12,
   "metadata": {},
   "outputs": [
    {
     "data": {
      "text/plain": [
       "16480.551350090238"
      ]
     },
     "execution_count": 12,
     "metadata": {},
     "output_type": "execute_result"
    }
   ],
   "source": [
    "calculate_profit(best)"
   ]
  },
  {
   "cell_type": "code",
   "execution_count": 31,
   "metadata": {},
   "outputs": [
    {
     "name": "stdout",
     "output_type": "stream",
     "text": [
      "{'a': 2, 'b': 2, 'c': 1, 'd': 1, 'e': 2, 'f': 2, 'g': 2, 'h': 1, 'i': 2, 'j': 0, 'k': 1, 'l': 2, 'm': 2, 'n': 2, 'o': 2, 'p': 2, 'q': 0, 'r': 2, 's': 2, 't': 2, 'u': 2, 'v': 1, 'w': 1, 'x': 1, 'y': 1, 'z': 1}\n"
     ]
    },
    {
     "data": {
      "text/plain": [
       "17736.072"
      ]
     },
     "execution_count": 31,
     "metadata": {},
     "output_type": "execute_result"
    }
   ],
   "source": [
    "# simulate profit to compare to calculated profit\n",
    "\n",
    "best_test = {char: b for char, b in zip(alphabet, best)}\n",
    "print(best_test)\n",
    "\n",
    "simulate_profit(best_test, 1000000)"
   ]
  },
  {
   "cell_type": "code",
   "execution_count": 34,
   "metadata": {},
   "outputs": [
    {
     "data": {
      "text/plain": [
       "<matplotlib.legend.Legend at 0x2cd95ab2200>"
      ]
     },
     "execution_count": 34,
     "metadata": {},
     "output_type": "execute_result"
    },
    {
     "data": {
      "image/png": "[encoded data removed]",
      "text/plain": [
       "<Figure size 2400x1000 with 1 Axes>"
      ]
     },
     "metadata": {},
     "output_type": "display_data"
    }
   ],
   "source": [
    "import matplotlib.pyplot as plt\n",
    "\n",
    "averageAlphabetOccurences = np.array(list(alphabetOccurences.values()))/len(words)\n",
    "\n",
    "fig,ax = plt.subplots(figsize=(24,10))\n",
    "\n",
    "ax.bar(list(alphabet), best, color = 'r', alpha = 0.6, label=\"Optimal stock\")\n",
    "ax.bar(list(alphabet), averageAlphabetOccurences, color='b', alpha=0.6, label=\"Average frequency of letters\")\n",
    "ax.set_ylabel(\"Frequency\",fontsize = 20)\n",
    "ax.tick_params(labelsize=15)\n",
    "ax.legend(fontsize=20)\n"
   ]
  }
 ],
 "metadata": {
  "kernelspec": {
   "display_name": "Python 3.10.5 ('babcock_venv': venv)",
   "language": "python",
   "name": "python3"
  },
  "language_info": {
   "codemirror_mode": {
    "name": "ipython",
    "version": 3
   },
   "file_extension": ".py",
   "mimetype": "text/x-python",
   "name": "python",
   "nbconvert_exporter": "python",
   "pygments_lexer": "ipython3",
   "version": "3.10.5"
  },
  "orig_nbformat": 4,
  "vscode": {
   "interpreter": {
    "hash": "2819cba1b9da6b7633ac8f295e1e80a8cd6341e4ce72c65cc932931711806310"
   }
  }
 },
 "nbformat": 4,
 "nbformat_minor": 2
}
